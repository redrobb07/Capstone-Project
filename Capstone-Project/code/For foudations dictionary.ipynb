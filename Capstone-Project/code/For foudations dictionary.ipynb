{
 "cells": [
  {
   "cell_type": "code",
   "execution_count": null,
   "id": "e556e25b",
   "metadata": {},
   "outputs": [],
   "source": [
    "with open('convert.txt', 'w') as convert_file:\n",
    "     convert_file.write(json.dumps('../mfd2.0 (1).dic'))"
   ]
  },
  {
   "cell_type": "code",
   "execution_count": null,
   "id": "ed5496d9",
   "metadata": {},
   "outputs": [],
   "source": [
    "found_df = pd.read_csv('../mfd2.0 (1).dic', sep='\\t')\n",
    "found_df.reset_index(inplace=True)\n",
    "found_df.columns = ['word', 'foundation']\n",
    "found_df = found_df.drop(labels=range(0, 11), axis=0)\n",
    "found_df.head(200)"
   ]
  },
  {
   "cell_type": "code",
   "execution_count": null,
   "id": "cd0cc9b5",
   "metadata": {},
   "outputs": [],
   "source": [
    "words = found_df['word']\n",
    "\n",
    "def new_columns(df1, df2):\n",
    "    columns = list(df2)\n",
    "    for i in columns:\n",
    "#         df1[f'{i}']\n",
    "        df1.reindex(columns=[*df1.columns.to_list(), f'{i}'], fill_value=0)\n",
    "    return df1"
   ]
  },
  {
   "cell_type": "code",
   "execution_count": null,
   "id": "8efca90b",
   "metadata": {},
   "outputs": [],
   "source": [
    "# new_columns(df, words)"
   ]
  },
  {
   "cell_type": "code",
   "execution_count": null,
   "id": "3d144643",
   "metadata": {},
   "outputs": [],
   "source": [
    "#https://stackoverflow.com/questions/30926670/add-multiple-empty-columns-to-pandas-dataframe\n",
    "# df.reindex(columns=[*df.columns.to_list(), '1', '2', '3', '4', '5', '6', '7', '8', '9', '10'], fill_value=0)\n"
   ]
  }
 ],
 "metadata": {
  "kernelspec": {
   "display_name": "Python 3",
   "language": "python",
   "name": "python3"
  },
  "language_info": {
   "codemirror_mode": {
    "name": "ipython",
    "version": 3
   },
   "file_extension": ".py",
   "mimetype": "text/x-python",
   "name": "python",
   "nbconvert_exporter": "python",
   "pygments_lexer": "ipython3",
   "version": "3.8.8"
  }
 },
 "nbformat": 4,
 "nbformat_minor": 5
}
